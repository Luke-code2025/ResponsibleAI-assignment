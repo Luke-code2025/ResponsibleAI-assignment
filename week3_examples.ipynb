{
  "nbformat": 4,
  "nbformat_minor": 0,
  "metadata": {
    "colab": {
      "provenance": [],
      "authorship_tag": "ABX9TyOLCOOKkbPw/vRJ/y1//GXL",
      "include_colab_link": true
    },
    "kernelspec": {
      "name": "python3",
      "display_name": "Python 3"
    },
    "language_info": {
      "name": "python"
    }
  },
  "cells": [
    {
      "cell_type": "markdown",
      "metadata": {
        "id": "view-in-github",
        "colab_type": "text"
      },
      "source": [
        "<a href=\"https://colab.research.google.com/github/Luke-code2025/ResponsibleAI-assignment/blob/main/week3_examples.ipynb\" target=\"_parent\"><img src=\"https://colab.research.google.com/assets/colab-badge.svg\" alt=\"Open In Colab\"/></a>"
      ]
    },
    {
      "cell_type": "code",
      "execution_count": 2,
      "metadata": {
        "colab": {
          "base_uri": "https://localhost:8080/"
        },
        "id": "5d97dzl04gdf",
        "outputId": "d431dcf9-ef8f-47b3-ad0c-82a315d2939c"
      },
      "outputs": [
        {
          "output_type": "stream",
          "name": "stdout",
          "text": [
            "Epoch 1/5\n",
            "\u001b[1m1875/1875\u001b[0m \u001b[32m━━━━━━━━━━━━━━━━━━━━\u001b[0m\u001b[37m\u001b[0m \u001b[1m9s\u001b[0m 4ms/step - accuracy: 0.8565 - loss: 0.4850\n",
            "Epoch 2/5\n",
            "\u001b[1m1875/1875\u001b[0m \u001b[32m━━━━━━━━━━━━━━━━━━━━\u001b[0m\u001b[37m\u001b[0m \u001b[1m9s\u001b[0m 4ms/step - accuracy: 0.9548 - loss: 0.1523\n",
            "Epoch 3/5\n",
            "\u001b[1m1875/1875\u001b[0m \u001b[32m━━━━━━━━━━━━━━━━━━━━\u001b[0m\u001b[37m\u001b[0m \u001b[1m8s\u001b[0m 4ms/step - accuracy: 0.9664 - loss: 0.1091\n",
            "Epoch 4/5\n",
            "\u001b[1m1875/1875\u001b[0m \u001b[32m━━━━━━━━━━━━━━━━━━━━\u001b[0m\u001b[37m\u001b[0m \u001b[1m7s\u001b[0m 4ms/step - accuracy: 0.9729 - loss: 0.0887\n",
            "Epoch 5/5\n",
            "\u001b[1m1875/1875\u001b[0m \u001b[32m━━━━━━━━━━━━━━━━━━━━\u001b[0m\u001b[37m\u001b[0m \u001b[1m7s\u001b[0m 4ms/step - accuracy: 0.9771 - loss: 0.0742\n",
            "\u001b[1m313/313\u001b[0m \u001b[32m━━━━━━━━━━━━━━━━━━━━\u001b[0m\u001b[37m\u001b[0m \u001b[1m1s\u001b[0m 2ms/step - accuracy: 0.9741 - loss: 0.0880\n"
          ]
        },
        {
          "output_type": "stream",
          "name": "stderr",
          "text": [
            "WARNING:absl:You are saving your model as an HDF5 file via `model.save()` or `keras.saving.save_model(model)`. This file format is considered legacy. We recommend using instead the native Keras format, e.g. `model.save('my_model.keras')` or `keras.saving.save_model(model, 'my_model.keras')`. \n",
            "WARNING:absl:Compiled the loaded model, but the compiled metrics have yet to be built. `model.compile_metrics` will be empty until you train or evaluate the model.\n"
          ]
        },
        {
          "output_type": "execute_result",
          "data": {
            "text/plain": [
              "<Sequential name=sequential_1, built=True>"
            ]
          },
          "metadata": {},
          "execution_count": 2
        }
      ],
      "source": [
        "# Import TensorFlow. TensorFlow provides the deep learning framework and Keras API for building models.\n",
        "import tensorflow as tf\n",
        "\n",
        "# Load the MNIST dataset directly from TensorFlow's built-in datasets.\n",
        "# The dataset is automatically downloaded from an online source and split into training and test sets.\n",
        "# x_train and x_test contain image pixel data, while y_train and y_test contain the corresponding digit labels.\n",
        "(x_train, y_train), (x_test, y_test) = tf.keras.datasets.mnist.load_data()\n",
        "\n",
        "# Normalize the pixel values of the images from the original range of 0 to 255 to a range of 0 to 1.\n",
        "# This scaling helps the neural network train faster and more reliably.\n",
        "x_train, x_test = x_train / 255.0, x_test / 255.0\n",
        "\n",
        "# Build a Sequential model, which is a linear stack of layers.\n",
        "model = tf.keras.models.Sequential([\n",
        "    # The Flatten layer converts the 2D 28x28 images into a 1D array of 784 pixels.\n",
        "    tf.keras.layers.Flatten(input_shape=(28, 28)),\n",
        "\n",
        "    # A Dense (fully-connected) layer with 128 neurons and ReLU activation for introducing non-linearity.\n",
        "    tf.keras.layers.Dense(128, activation='relu'),\n",
        "\n",
        "    # Dropout layer randomly sets 20% of its inputs to zero during training.\n",
        "    # This prevents overfitting by ensuring that the model does not rely too heavily on any particular set of features.\n",
        "    tf.keras.layers.Dropout(0.2),\n",
        "\n",
        "    # The final Dense layer with 10 neurons and softmax activation.\n",
        "    # Each neuron corresponds to one of the 10 digits (0-9), and softmax outputs a probability distribution.\n",
        "    tf.keras.layers.Dense(10, activation='softmax')\n",
        "])\n",
        "\n",
        "# Compile the model.\n",
        "# - optimizer='adam': Adam optimizer adjusts the learning rate during training.\n",
        "# - loss='sparse_categorical_crossentropy': This loss function is used for integer-labeled classification.\n",
        "# - metrics=['accuracy']: The model will report accuracy during training and testing.\n",
        "model.compile(optimizer='adam',\n",
        "              loss='sparse_categorical_crossentropy',\n",
        "              metrics=['accuracy'])\n",
        "\n",
        "# Train (fit) the model on the training data over 5 epochs.\n",
        "# An epoch means one full pass through the entire training dataset.\n",
        "model.fit(x_train, y_train, epochs=5)\n",
        "\n",
        "# Evaluate the model on the test set.\n",
        "# This provides an unbiased evaluation of how well the model generalizes to new, unseen data.\n",
        "model.evaluate(x_test, y_test)\n",
        "model.save('mnist_model.h5')\n",
        "tf.keras.models.load_model('mnist_model.h5')"
      ]
    },
    {
      "cell_type": "code",
      "source": [
        "# Import necessary PyTorch libraries and modules.\n",
        "import torch                              # Main PyTorch package.\n",
        "import torch.nn as nn                     # Provides neural network building blocks.\n",
        "import torch.optim as optim               # Provides optimization algorithms.\n",
        "import torch.nn.functional as F           # Contains useful functions like activation functions.\n",
        "from torchvision import datasets, transforms  # For loading and transforming datasets.\n",
        "from torch.utils.data import DataLoader   # Helps in batching and shuffling the data.\n",
        "\n",
        "# Define the data transformation.\n",
        "# - transforms.ToTensor(): Converts a PIL Image or numpy array (pixel values 0-255) into a FloatTensor (values between 0.0 and 1.0).\n",
        "# - transforms.Normalize((0.1307,), (0.3081,)): Normalizes the tensor with given mean and standard deviation, computed on MNIST.\n",
        "transform = transforms.Compose([\n",
        "    transforms.ToTensor(),\n",
        "    transforms.Normalize((0.1307,), (0.3081,))\n",
        "])\n",
        "\n",
        "# Download and load the training and test datasets.\n",
        "# - root='./data': Directory where the datasets will be stored.\n",
        "# - train=True/False: Specifies if we're downloading the training or test set.\n",
        "# - download=True: Downloads the dataset if it's not already present locally.\n",
        "# - transform: Applies the transformation defined above to the data.\n",
        "train_dataset = datasets.MNIST(root='./data', train=True, download=True, transform=transform)\n",
        "test_dataset = datasets.MNIST(root='./data', train=False, download=True, transform=transform)\n",
        "\n",
        "# Wrap the datasets in DataLoader objects to enable batch processing and shuffling.\n",
        "# - batch_size: Number of samples per batch.\n",
        "# - shuffle=True for training data to randomize data order each epoch.\n",
        "train_loader = DataLoader(train_dataset, batch_size=64, shuffle=True)\n",
        "test_loader = DataLoader(test_dataset, batch_size=1000, shuffle=False)\n",
        "\n",
        "# Define a simple neural network model by subclassing nn.Module.\n",
        "class SimpleNN(nn.Module):\n",
        "    def __init__(self):\n",
        "        super(SimpleNN, self).__init__()\n",
        "        # Define the first fully connected (dense) layer:\n",
        "        # Input features are 28*28 pixels (flattened image) and output is 128 features.\n",
        "        self.fc1 = nn.Linear(28 * 28, 128)\n",
        "        # Define the second fully connected layer:\n",
        "        # Input features from the previous layer and output should be 10 classes (digits 0-9).\n",
        "        self.fc2 = nn.Linear(128, 10)\n",
        "\n",
        "    def forward(self, x):\n",
        "        # Flatten the input x from shape [batch_size, 1, 28, 28] to [batch_size, 28*28]\n",
        "        x = x.view(-1, 28 * 28)\n",
        "        # Apply the first layer then a ReLU activation function to introduce non-linearity.\n",
        "        x = F.relu(self.fc1(x))\n",
        "        # Pass the output through the second layer which outputs the logits for 10 classes.\n",
        "        x = self.fc2(x)\n",
        "        return x\n",
        "\n",
        "# Instantiate the model.\n",
        "model = SimpleNN()\n",
        "\n",
        "# Define the optimizer and the loss function.\n",
        "# - Adam is a popular optimizer that adapts the learning rate.\n",
        "# - CrossEntropyLoss combines softmax and negative log likelihood loss, appropriate for multi-class classification.\n",
        "optimizer = optim.Adam(model.parameters(), lr=0.001)\n",
        "criterion = nn.CrossEntropyLoss()\n",
        "\n",
        "# Training loop: iterate over the dataset multiple times (epochs).\n",
        "for epoch in range(5):  # Train for 5 epochs.\n",
        "    model.train()  # Set the model to training mode.\n",
        "    for batch_idx, (data, target) in enumerate(train_loader):\n",
        "        optimizer.zero_grad()          # Clear gradients from the previous iteration.\n",
        "        output = model(data)           # Forward pass: compute the model output for the current batch.\n",
        "        loss = criterion(output, target)  # Compute the loss between prediction and true labels.\n",
        "        loss.backward()                # Backward pass: compute the gradients.\n",
        "        optimizer.step()               # Update model parameters using the gradients.\n",
        "\n",
        "        # Print current training progress every 100 batches.\n",
        "        if batch_idx % 100 == 0:\n",
        "            print(f\"Train Epoch: {epoch} [{batch_idx * len(data)}/{len(train_loader.dataset)}] Loss: {loss.item()}\")\n",
        "\n",
        "    # Evaluation loop to assess model performance on the test dataset.\n",
        "    model.eval()   # Set the model to evaluation (inference) mode.\n",
        "    test_loss = 0\n",
        "    correct = 0\n",
        "    with torch.no_grad():  # Disable gradient calculation for inference.\n",
        "        for data, target in test_loader:\n",
        "            output = model(data)                # Compute output for test data.\n",
        "            test_loss += criterion(output, target).item()  # Sum up batch losses.\n",
        "            pred = output.argmax(dim=1, keepdim=True)  # Get the index of the max logit (predicted class).\n",
        "            correct += pred.eq(target.view_as(pred)).sum().item()  # Count correct predictions.\n",
        "\n",
        "    test_loss /= len(test_loader.dataset)  # Compute average loss.\n",
        "    accuracy = 100. * correct / len(test_loader.dataset)  # Calculate accuracy in percentage.\n",
        "    print(f\"\\nTest set: Average loss: {test_loss:.4f}, Accuracy: {correct}/{len(test_loader.dataset)} ({accuracy:.2f}%)\\n\")"
      ],
      "metadata": {
        "colab": {
          "base_uri": "https://localhost:8080/"
        },
        "id": "iBtBa2fRgOR2",
        "outputId": "e6a7dd89-7e4c-4b3f-fb96-38da2ca20be4"
      },
      "execution_count": 3,
      "outputs": [
        {
          "output_type": "stream",
          "name": "stderr",
          "text": [
            "100%|██████████| 9.91M/9.91M [00:00<00:00, 56.7MB/s]\n",
            "100%|██████████| 28.9k/28.9k [00:00<00:00, 1.71MB/s]\n",
            "100%|██████████| 1.65M/1.65M [00:00<00:00, 14.0MB/s]\n",
            "100%|██████████| 4.54k/4.54k [00:00<00:00, 8.81MB/s]\n"
          ]
        },
        {
          "output_type": "stream",
          "name": "stdout",
          "text": [
            "Train Epoch: 0 [0/60000] Loss: 2.298306465148926\n",
            "Train Epoch: 0 [6400/60000] Loss: 0.3972071707248688\n",
            "Train Epoch: 0 [12800/60000] Loss: 0.283642053604126\n",
            "Train Epoch: 0 [19200/60000] Loss: 0.25036129355430603\n",
            "Train Epoch: 0 [25600/60000] Loss: 0.05858876556158066\n",
            "Train Epoch: 0 [32000/60000] Loss: 0.20605993270874023\n",
            "Train Epoch: 0 [38400/60000] Loss: 0.25541502237319946\n",
            "Train Epoch: 0 [44800/60000] Loss: 0.12323227524757385\n",
            "Train Epoch: 0 [51200/60000] Loss: 0.12212136387825012\n",
            "Train Epoch: 0 [57600/60000] Loss: 0.07801207154989243\n",
            "\n",
            "Test set: Average loss: 0.0001, Accuracy: 9581/10000 (95.81%)\n",
            "\n",
            "Train Epoch: 1 [0/60000] Loss: 0.15849310159683228\n",
            "Train Epoch: 1 [6400/60000] Loss: 0.13726764917373657\n",
            "Train Epoch: 1 [12800/60000] Loss: 0.04269258305430412\n",
            "Train Epoch: 1 [19200/60000] Loss: 0.11131531745195389\n",
            "Train Epoch: 1 [25600/60000] Loss: 0.10878986865282059\n",
            "Train Epoch: 1 [32000/60000] Loss: 0.17630933225154877\n",
            "Train Epoch: 1 [38400/60000] Loss: 0.15944647789001465\n",
            "Train Epoch: 1 [44800/60000] Loss: 0.07294818758964539\n",
            "Train Epoch: 1 [51200/60000] Loss: 0.2721095085144043\n",
            "Train Epoch: 1 [57600/60000] Loss: 0.08289316296577454\n",
            "\n",
            "Test set: Average loss: 0.0001, Accuracy: 9592/10000 (95.92%)\n",
            "\n",
            "Train Epoch: 2 [0/60000] Loss: 0.08309188485145569\n",
            "Train Epoch: 2 [6400/60000] Loss: 0.13458523154258728\n",
            "Train Epoch: 2 [12800/60000] Loss: 0.07686451077461243\n",
            "Train Epoch: 2 [19200/60000] Loss: 0.022326478734612465\n",
            "Train Epoch: 2 [25600/60000] Loss: 0.08172792196273804\n",
            "Train Epoch: 2 [32000/60000] Loss: 0.14705313742160797\n",
            "Train Epoch: 2 [38400/60000] Loss: 0.03877130150794983\n",
            "Train Epoch: 2 [44800/60000] Loss: 0.030821453779935837\n",
            "Train Epoch: 2 [51200/60000] Loss: 0.03446508198976517\n",
            "Train Epoch: 2 [57600/60000] Loss: 0.05908598378300667\n",
            "\n",
            "Test set: Average loss: 0.0001, Accuracy: 9711/10000 (97.11%)\n",
            "\n",
            "Train Epoch: 3 [0/60000] Loss: 0.014095580205321312\n",
            "Train Epoch: 3 [6400/60000] Loss: 0.04354531317949295\n",
            "Train Epoch: 3 [12800/60000] Loss: 0.17354606091976166\n",
            "Train Epoch: 3 [19200/60000] Loss: 0.060040540993213654\n",
            "Train Epoch: 3 [25600/60000] Loss: 0.06398632377386093\n",
            "Train Epoch: 3 [32000/60000] Loss: 0.04300397261977196\n",
            "Train Epoch: 3 [38400/60000] Loss: 0.03201013058423996\n",
            "Train Epoch: 3 [44800/60000] Loss: 0.09655933827161789\n",
            "Train Epoch: 3 [51200/60000] Loss: 0.030000731348991394\n",
            "Train Epoch: 3 [57600/60000] Loss: 0.040002867579460144\n",
            "\n",
            "Test set: Average loss: 0.0001, Accuracy: 9734/10000 (97.34%)\n",
            "\n",
            "Train Epoch: 4 [0/60000] Loss: 0.033080995082855225\n",
            "Train Epoch: 4 [6400/60000] Loss: 0.004408800974488258\n",
            "Train Epoch: 4 [12800/60000] Loss: 0.00760688167065382\n",
            "Train Epoch: 4 [19200/60000] Loss: 0.03534872457385063\n",
            "Train Epoch: 4 [25600/60000] Loss: 0.03621240332722664\n",
            "Train Epoch: 4 [32000/60000] Loss: 0.003466626163572073\n",
            "Train Epoch: 4 [38400/60000] Loss: 0.019725874066352844\n",
            "Train Epoch: 4 [44800/60000] Loss: 0.05709286779165268\n",
            "Train Epoch: 4 [51200/60000] Loss: 0.07102399319410324\n",
            "Train Epoch: 4 [57600/60000] Loss: 0.0446644052863121\n",
            "\n",
            "Test set: Average loss: 0.0001, Accuracy: 9755/10000 (97.55%)\n",
            "\n"
          ]
        }
      ]
    }
  ]
}